{
 "cells": [
  {
   "attachments": {},
   "cell_type": "markdown",
   "metadata": {},
   "source": [
    "# Gerador de tabela de Punnet! \n",
    "> Ainda não consegui fazer funcionar direito"
   ]
  },
  {
   "attachments": {},
   "cell_type": "markdown",
   "metadata": {},
   "source": [
    "## Gerador"
   ]
  },
  {
   "cell_type": "code",
   "execution_count": 1,
   "metadata": {},
   "outputs": [],
   "source": [
    "import pandas as pd"
   ]
  },
  {
   "cell_type": "code",
   "execution_count": 2,
   "metadata": {},
   "outputs": [],
   "source": [
    "def get_binary_in_bytes(bytes: int):\n",
    "    max_value_in_bytes = 0\n",
    "    binary_numbers = []\n",
    "\n",
    "    for i in range(bytes):\n",
    "        max_value_in_bytes += 2 ** i\n",
    "\n",
    "    for i in range(max_value_in_bytes + 1):\n",
    "        # Turns number to binary, remove the '0b' from the beggining and pad the start with zeros\n",
    "        binary_numbers.append(bin(i)[2:].zfill(bytes))\n",
    "\n",
    "    return binary_numbers"
   ]
  },
  {
   "cell_type": "code",
   "execution_count": 3,
   "metadata": {},
   "outputs": [],
   "source": [
    "def get_allele_combinations(alleles_number: int):\n",
    "    binary_combinations = get_binary_in_bytes(alleles_number)\n",
    "    allele_combinations = []\n",
    "\n",
    "    for combination in binary_combinations:\n",
    "        letter_combination = ''\n",
    "        \n",
    "        for char_index, char in enumerate(combination):\n",
    "            code_point = {\n",
    "                '1':'@',\n",
    "                '0':'`'\n",
    "            }\n",
    "            letter_combination += chr(ord(code_point[char]) + int(char_index + 1))\n",
    "\n",
    "        allele_combinations.append(letter_combination)\n",
    "\n",
    "    return allele_combinations\n"
   ]
  },
  {
   "cell_type": "code",
   "execution_count": 4,
   "metadata": {},
   "outputs": [],
   "source": [
    "def get_punnet_table(alleles_number: int):\n",
    "    if alleles_number < 2:\n",
    "        return pd.DataFrame({'a':['aa','aA'],'A':['Aa','AA']},index=['a','A'])\n",
    "\n",
    "    alleles = pd.Series(get_allele_combinations(alleles_number))\n",
    "\n",
    "    punnet_table = pd.DataFrame(data=alleles.str.join(alleles.str).to_list())\n",
    "    punnet_table.index = alleles\n",
    "    punnet_table.columns = alleles\n",
    "\n",
    "    return punnet_table"
   ]
  },
  {
   "attachments": {},
   "cell_type": "markdown",
   "metadata": {},
   "source": [
    "## Geração"
   ]
  },
  {
   "cell_type": "code",
   "execution_count": 5,
   "metadata": {},
   "outputs": [
    {
     "data": {
      "text/html": [
       "<div>\n",
       "<style scoped>\n",
       "    .dataframe tbody tr th:only-of-type {\n",
       "        vertical-align: middle;\n",
       "    }\n",
       "\n",
       "    .dataframe tbody tr th {\n",
       "        vertical-align: top;\n",
       "    }\n",
       "\n",
       "    .dataframe thead th {\n",
       "        text-align: right;\n",
       "    }\n",
       "</style>\n",
       "<table border=\"1\" class=\"dataframe\">\n",
       "  <thead>\n",
       "    <tr style=\"text-align: right;\">\n",
       "      <th></th>\n",
       "      <th>a</th>\n",
       "      <th>A</th>\n",
       "    </tr>\n",
       "  </thead>\n",
       "  <tbody>\n",
       "    <tr>\n",
       "      <th>a</th>\n",
       "      <td>aa</td>\n",
       "      <td>Aa</td>\n",
       "    </tr>\n",
       "    <tr>\n",
       "      <th>A</th>\n",
       "      <td>aA</td>\n",
       "      <td>AA</td>\n",
       "    </tr>\n",
       "  </tbody>\n",
       "</table>\n",
       "</div>"
      ],
      "text/plain": [
       "    a   A\n",
       "a  aa  Aa\n",
       "A  aA  AA"
      ]
     },
     "execution_count": 5,
     "metadata": {},
     "output_type": "execute_result"
    }
   ],
   "source": [
    "get_punnet_table(1)"
   ]
  },
  {
   "cell_type": "code",
   "execution_count": 6,
   "metadata": {},
   "outputs": [
    {
     "data": {
      "text/html": [
       "<div>\n",
       "<style scoped>\n",
       "    .dataframe tbody tr th:only-of-type {\n",
       "        vertical-align: middle;\n",
       "    }\n",
       "\n",
       "    .dataframe tbody tr th {\n",
       "        vertical-align: top;\n",
       "    }\n",
       "\n",
       "    .dataframe thead th {\n",
       "        text-align: right;\n",
       "    }\n",
       "</style>\n",
       "<table border=\"1\" class=\"dataframe\">\n",
       "  <thead>\n",
       "    <tr style=\"text-align: right;\">\n",
       "      <th></th>\n",
       "      <th>ab</th>\n",
       "      <th>aB</th>\n",
       "      <th>Ab</th>\n",
       "      <th>AB</th>\n",
       "    </tr>\n",
       "  </thead>\n",
       "  <tbody>\n",
       "    <tr>\n",
       "      <th>ab</th>\n",
       "      <td>aabb</td>\n",
       "      <td>aabB</td>\n",
       "      <td>Aabb</td>\n",
       "      <td>AabB</td>\n",
       "    </tr>\n",
       "    <tr>\n",
       "      <th>aB</th>\n",
       "      <td>aaBb</td>\n",
       "      <td>aaBB</td>\n",
       "      <td>AaBb</td>\n",
       "      <td>AaBB</td>\n",
       "    </tr>\n",
       "    <tr>\n",
       "      <th>Ab</th>\n",
       "      <td>aAbb</td>\n",
       "      <td>aAbB</td>\n",
       "      <td>AAbb</td>\n",
       "      <td>AAbB</td>\n",
       "    </tr>\n",
       "    <tr>\n",
       "      <th>AB</th>\n",
       "      <td>aABb</td>\n",
       "      <td>aABB</td>\n",
       "      <td>AABb</td>\n",
       "      <td>AABB</td>\n",
       "    </tr>\n",
       "  </tbody>\n",
       "</table>\n",
       "</div>"
      ],
      "text/plain": [
       "      ab    aB    Ab    AB\n",
       "ab  aabb  aabB  Aabb  AabB\n",
       "aB  aaBb  aaBB  AaBb  AaBB\n",
       "Ab  aAbb  aAbB  AAbb  AAbB\n",
       "AB  aABb  aABB  AABb  AABB"
      ]
     },
     "execution_count": 6,
     "metadata": {},
     "output_type": "execute_result"
    }
   ],
   "source": [
    "get_punnet_table(2)"
   ]
  },
  {
   "cell_type": "code",
   "execution_count": 7,
   "metadata": {},
   "outputs": [
    {
     "data": {
      "text/html": [
       "<div>\n",
       "<style scoped>\n",
       "    .dataframe tbody tr th:only-of-type {\n",
       "        vertical-align: middle;\n",
       "    }\n",
       "\n",
       "    .dataframe tbody tr th {\n",
       "        vertical-align: top;\n",
       "    }\n",
       "\n",
       "    .dataframe thead th {\n",
       "        text-align: right;\n",
       "    }\n",
       "</style>\n",
       "<table border=\"1\" class=\"dataframe\">\n",
       "  <thead>\n",
       "    <tr style=\"text-align: right;\">\n",
       "      <th></th>\n",
       "      <th>abc</th>\n",
       "      <th>abC</th>\n",
       "      <th>aBc</th>\n",
       "      <th>aBC</th>\n",
       "      <th>Abc</th>\n",
       "      <th>AbC</th>\n",
       "      <th>ABc</th>\n",
       "      <th>ABC</th>\n",
       "    </tr>\n",
       "  </thead>\n",
       "  <tbody>\n",
       "    <tr>\n",
       "      <th>abc</th>\n",
       "      <td>aabcbabcc</td>\n",
       "      <td>aabcbabcC</td>\n",
       "      <td>aabcBabcc</td>\n",
       "      <td>aabcBabcC</td>\n",
       "      <td>Aabcbabcc</td>\n",
       "      <td>AabcbabcC</td>\n",
       "      <td>AabcBabcc</td>\n",
       "      <td>AabcBabcC</td>\n",
       "    </tr>\n",
       "    <tr>\n",
       "      <th>abC</th>\n",
       "      <td>aabCbabCc</td>\n",
       "      <td>aabCbabCC</td>\n",
       "      <td>aabCBabCc</td>\n",
       "      <td>aabCBabCC</td>\n",
       "      <td>AabCbabCc</td>\n",
       "      <td>AabCbabCC</td>\n",
       "      <td>AabCBabCc</td>\n",
       "      <td>AabCBabCC</td>\n",
       "    </tr>\n",
       "    <tr>\n",
       "      <th>aBc</th>\n",
       "      <td>aaBcbaBcc</td>\n",
       "      <td>aaBcbaBcC</td>\n",
       "      <td>aaBcBaBcc</td>\n",
       "      <td>aaBcBaBcC</td>\n",
       "      <td>AaBcbaBcc</td>\n",
       "      <td>AaBcbaBcC</td>\n",
       "      <td>AaBcBaBcc</td>\n",
       "      <td>AaBcBaBcC</td>\n",
       "    </tr>\n",
       "    <tr>\n",
       "      <th>aBC</th>\n",
       "      <td>aaBCbaBCc</td>\n",
       "      <td>aaBCbaBCC</td>\n",
       "      <td>aaBCBaBCc</td>\n",
       "      <td>aaBCBaBCC</td>\n",
       "      <td>AaBCbaBCc</td>\n",
       "      <td>AaBCbaBCC</td>\n",
       "      <td>AaBCBaBCc</td>\n",
       "      <td>AaBCBaBCC</td>\n",
       "    </tr>\n",
       "    <tr>\n",
       "      <th>Abc</th>\n",
       "      <td>aAbcbAbcc</td>\n",
       "      <td>aAbcbAbcC</td>\n",
       "      <td>aAbcBAbcc</td>\n",
       "      <td>aAbcBAbcC</td>\n",
       "      <td>AAbcbAbcc</td>\n",
       "      <td>AAbcbAbcC</td>\n",
       "      <td>AAbcBAbcc</td>\n",
       "      <td>AAbcBAbcC</td>\n",
       "    </tr>\n",
       "    <tr>\n",
       "      <th>AbC</th>\n",
       "      <td>aAbCbAbCc</td>\n",
       "      <td>aAbCbAbCC</td>\n",
       "      <td>aAbCBAbCc</td>\n",
       "      <td>aAbCBAbCC</td>\n",
       "      <td>AAbCbAbCc</td>\n",
       "      <td>AAbCbAbCC</td>\n",
       "      <td>AAbCBAbCc</td>\n",
       "      <td>AAbCBAbCC</td>\n",
       "    </tr>\n",
       "    <tr>\n",
       "      <th>ABc</th>\n",
       "      <td>aABcbABcc</td>\n",
       "      <td>aABcbABcC</td>\n",
       "      <td>aABcBABcc</td>\n",
       "      <td>aABcBABcC</td>\n",
       "      <td>AABcbABcc</td>\n",
       "      <td>AABcbABcC</td>\n",
       "      <td>AABcBABcc</td>\n",
       "      <td>AABcBABcC</td>\n",
       "    </tr>\n",
       "    <tr>\n",
       "      <th>ABC</th>\n",
       "      <td>aABCbABCc</td>\n",
       "      <td>aABCbABCC</td>\n",
       "      <td>aABCBABCc</td>\n",
       "      <td>aABCBABCC</td>\n",
       "      <td>AABCbABCc</td>\n",
       "      <td>AABCbABCC</td>\n",
       "      <td>AABCBABCc</td>\n",
       "      <td>AABCBABCC</td>\n",
       "    </tr>\n",
       "  </tbody>\n",
       "</table>\n",
       "</div>"
      ],
      "text/plain": [
       "           abc        abC        aBc        aBC        Abc        AbC  \\\n",
       "abc  aabcbabcc  aabcbabcC  aabcBabcc  aabcBabcC  Aabcbabcc  AabcbabcC   \n",
       "abC  aabCbabCc  aabCbabCC  aabCBabCc  aabCBabCC  AabCbabCc  AabCbabCC   \n",
       "aBc  aaBcbaBcc  aaBcbaBcC  aaBcBaBcc  aaBcBaBcC  AaBcbaBcc  AaBcbaBcC   \n",
       "aBC  aaBCbaBCc  aaBCbaBCC  aaBCBaBCc  aaBCBaBCC  AaBCbaBCc  AaBCbaBCC   \n",
       "Abc  aAbcbAbcc  aAbcbAbcC  aAbcBAbcc  aAbcBAbcC  AAbcbAbcc  AAbcbAbcC   \n",
       "AbC  aAbCbAbCc  aAbCbAbCC  aAbCBAbCc  aAbCBAbCC  AAbCbAbCc  AAbCbAbCC   \n",
       "ABc  aABcbABcc  aABcbABcC  aABcBABcc  aABcBABcC  AABcbABcc  AABcbABcC   \n",
       "ABC  aABCbABCc  aABCbABCC  aABCBABCc  aABCBABCC  AABCbABCc  AABCbABCC   \n",
       "\n",
       "           ABc        ABC  \n",
       "abc  AabcBabcc  AabcBabcC  \n",
       "abC  AabCBabCc  AabCBabCC  \n",
       "aBc  AaBcBaBcc  AaBcBaBcC  \n",
       "aBC  AaBCBaBCc  AaBCBaBCC  \n",
       "Abc  AAbcBAbcc  AAbcBAbcC  \n",
       "AbC  AAbCBAbCc  AAbCBAbCC  \n",
       "ABc  AABcBABcc  AABcBABcC  \n",
       "ABC  AABCBABCc  AABCBABCC  "
      ]
     },
     "execution_count": 7,
     "metadata": {},
     "output_type": "execute_result"
    }
   ],
   "source": [
    "# Not working right\n",
    "get_punnet_table(3)"
   ]
  }
 ],
 "metadata": {
  "kernelspec": {
   "display_name": "base",
   "language": "python",
   "name": "python3"
  },
  "language_info": {
   "codemirror_mode": {
    "name": "ipython",
    "version": 3
   },
   "file_extension": ".py",
   "mimetype": "text/x-python",
   "name": "python",
   "nbconvert_exporter": "python",
   "pygments_lexer": "ipython3",
   "version": "3.9.13 (main, Aug 25 2022, 23:51:50) [MSC v.1916 64 bit (AMD64)]"
  },
  "orig_nbformat": 4,
  "vscode": {
   "interpreter": {
    "hash": "0d47aa423cc061970ae1005c8ab738a0e855eb921c695d7855581862eb5511ac"
   }
  }
 },
 "nbformat": 4,
 "nbformat_minor": 2
}
