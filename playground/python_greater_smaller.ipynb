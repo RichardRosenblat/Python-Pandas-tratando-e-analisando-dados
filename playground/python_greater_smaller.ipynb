{
 "cells": [
  {
   "attachments": {},
   "cell_type": "markdown",
   "metadata": {},
   "source": [
    "# Greater and smaller than"
   ]
  },
  {
   "cell_type": "code",
   "execution_count": 1,
   "metadata": {},
   "outputs": [
    {
     "data": {
      "text/plain": [
       "True"
      ]
     },
     "execution_count": 1,
     "metadata": {},
     "output_type": "execute_result"
    }
   ],
   "source": [
    "# Igual a 2 >= 1 >= 0\n",
    "# 1 está entre ou é igual a qualquer um dos dois \n",
    "# (0 <= 1) && (1 <= 2 )\n",
    "# ((0 < x) && (x < 2)) || ((x == 2) || (x == 0))\n",
    "0 <= 1 <= 2"
   ]
  },
  {
   "cell_type": "code",
   "execution_count": 2,
   "metadata": {},
   "outputs": [
    {
     "data": {
      "text/plain": [
       "True"
      ]
     },
     "execution_count": 2,
     "metadata": {},
     "output_type": "execute_result"
    }
   ],
   "source": [
    "# Igual a 0 <= 1 <= 2\n",
    "# 1 está entre ou é igual a qualquer um dos dois\n",
    "# (2 >= x) && (x >= 0)\n",
    "# ((2 > x) && (x > 0)) || ((x == 2) || (x == 0))\n",
    "2 >= 1 >= 0"
   ]
  },
  {
   "cell_type": "code",
   "execution_count": 3,
   "metadata": {},
   "outputs": [
    {
     "data": {
      "text/plain": [
       "True"
      ]
     },
     "execution_count": 3,
     "metadata": {},
     "output_type": "execute_result"
    }
   ],
   "source": [
    "# 0 é menor ou igual a qualquer um dos dois\n",
    "# (1 >= x) && (x <= 2)\n",
    "# ((1 > x) && (x < 2)) || ((x == 1) || (x == 2))\n",
    "1 >= 0 <= 2"
   ]
  },
  {
   "cell_type": "code",
   "execution_count": 4,
   "metadata": {},
   "outputs": [
    {
     "data": {
      "text/plain": [
       "True"
      ]
     },
     "execution_count": 4,
     "metadata": {},
     "output_type": "execute_result"
    }
   ],
   "source": [
    "# 2 é maior ou igual a qualquer um dos dois\n",
    "# (0 <= x) && (x >= 1)\n",
    "# ((0 < x) && (x > 1)) || ((x == 0) || (x == 1))\n",
    "0 <= 2 >= 1"
   ]
  }
 ],
 "metadata": {
  "kernelspec": {
   "display_name": "base",
   "language": "python",
   "name": "python3"
  },
  "language_info": {
   "codemirror_mode": {
    "name": "ipython",
    "version": 3
   },
   "file_extension": ".py",
   "mimetype": "text/x-python",
   "name": "python",
   "nbconvert_exporter": "python",
   "pygments_lexer": "ipython3",
   "version": "3.9.13"
  },
  "orig_nbformat": 4,
  "vscode": {
   "interpreter": {
    "hash": "0d47aa423cc061970ae1005c8ab738a0e855eb921c695d7855581862eb5511ac"
   }
  }
 },
 "nbformat": 4,
 "nbformat_minor": 2
}
